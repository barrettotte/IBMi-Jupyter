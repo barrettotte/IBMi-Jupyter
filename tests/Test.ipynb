{
 "cells": [
  {
   "cell_type": "markdown",
   "metadata": {},
   "source": [
    "# IBMi Jupyter Examples\n",
    "\n",
    "Some examples of calling IBMi in Jupyter Notebooks"
   ]
  },
  {
   "cell_type": "code",
   "execution_count": 55,
   "metadata": {
    "scrolled": true
   },
   "outputs": [
    {
     "name": "stdout",
     "output_type": "stream",
     "text": [
      "Enter host: DEV400\n",
      "Enter user: OTTEB\n",
      "Enter password: ········\n",
      "Connecting to DEV400 as OTTEB ...\n",
      "Successfully connected!\n"
     ]
    }
   ],
   "source": [
    "# Run this to initialize IBMi notebook\n",
    "%run ../IBMi.ipynb"
   ]
  },
  {
   "cell_type": "markdown",
   "metadata": {},
   "source": [
    "## List QSYS Tables"
   ]
  },
  {
   "cell_type": "code",
   "execution_count": 56,
   "metadata": {
    "scrolled": true
   },
   "outputs": [
    {
     "name": "stdout",
     "output_type": "stream",
     "text": [
      "Executing statement 1 of 1 ...\n"
     ]
    },
    {
     "data": {
      "text/html": [
       "<div>\n",
       "<style scoped>\n",
       "    .dataframe tbody tr th:only-of-type {\n",
       "        vertical-align: middle;\n",
       "    }\n",
       "\n",
       "    .dataframe tbody tr th {\n",
       "        vertical-align: top;\n",
       "    }\n",
       "\n",
       "    .dataframe thead th {\n",
       "        text-align: right;\n",
       "    }\n",
       "</style>\n",
       "<table border=\"1\" class=\"dataframe\">\n",
       "  <thead>\n",
       "    <tr style=\"text-align: right;\">\n",
       "      <th></th>\n",
       "      <th>TABLE_NAME</th>\n",
       "      <th>TABLE_TEXT</th>\n",
       "    </tr>\n",
       "  </thead>\n",
       "  <tbody>\n",
       "    <tr>\n",
       "      <th>0</th>\n",
       "      <td>QSYS/FMWINFO</td>\n",
       "      <td>Output file for DSPFMWSTS</td>\n",
       "    </tr>\n",
       "    <tr>\n",
       "      <th>1</th>\n",
       "      <td>QSYS/QAANZLOG</td>\n",
       "      <td>Output file for PRTERRLOG *ANZLOG</td>\n",
       "    </tr>\n",
       "    <tr>\n",
       "      <th>2</th>\n",
       "      <td>QSYS/QABNDBND</td>\n",
       "      <td>System supplied outfile for DSPBNDDIR command.</td>\n",
       "    </tr>\n",
       "  </tbody>\n",
       "</table>\n",
       "</div>"
      ],
      "text/plain": [
       "      TABLE_NAME                                      TABLE_TEXT\n",
       "0   QSYS/FMWINFO                       Output file for DSPFMWSTS\n",
       "1  QSYS/QAANZLOG               Output file for PRTERRLOG *ANZLOG\n",
       "2  QSYS/QABNDBND  System supplied outfile for DSPBNDDIR command."
      ]
     },
     "metadata": {},
     "output_type": "display_data"
    }
   ],
   "source": [
    "%%ibmi\n",
    "\n",
    "select TABLE_SCHEMA || '/' || TABLE_NAME as TABLE_NAME, TABLE_TEXT\n",
    "from QSYS2.SYSTABLES\n",
    "where TABLE_SCHEMA='QSYS'\n",
    "limit 3;"
   ]
  },
  {
   "cell_type": "markdown",
   "metadata": {},
   "source": [
    "## List Members in a Source Physical File"
   ]
  },
  {
   "cell_type": "code",
   "execution_count": 57,
   "metadata": {
    "scrolled": true
   },
   "outputs": [
    {
     "name": "stdout",
     "output_type": "stream",
     "text": [
      "Executing statement 1 of 1 ...\n"
     ]
    },
    {
     "data": {
      "text/html": [
       "<div>\n",
       "<style scoped>\n",
       "    .dataframe tbody tr th:only-of-type {\n",
       "        vertical-align: middle;\n",
       "    }\n",
       "\n",
       "    .dataframe tbody tr th {\n",
       "        vertical-align: top;\n",
       "    }\n",
       "\n",
       "    .dataframe thead th {\n",
       "        text-align: right;\n",
       "    }\n",
       "</style>\n",
       "<table border=\"1\" class=\"dataframe\">\n",
       "  <thead>\n",
       "    <tr style=\"text-align: right;\">\n",
       "      <th></th>\n",
       "      <th>TABLE_SCHEMA</th>\n",
       "      <th>TABLE_NAME</th>\n",
       "      <th>TABLE_PARTITION</th>\n",
       "      <th>SOURCE_TYPE</th>\n",
       "    </tr>\n",
       "  </thead>\n",
       "  <tbody>\n",
       "    <tr>\n",
       "      <th>0</th>\n",
       "      <td>BOLIB</td>\n",
       "      <td>QRPGLESRC</td>\n",
       "      <td>BTCHASH</td>\n",
       "      <td>RPGLE</td>\n",
       "    </tr>\n",
       "    <tr>\n",
       "      <th>1</th>\n",
       "      <td>BOLIB</td>\n",
       "      <td>QRPGLESRC</td>\n",
       "      <td>CLR019B</td>\n",
       "      <td>SQLRPGLE</td>\n",
       "    </tr>\n",
       "    <tr>\n",
       "      <th>2</th>\n",
       "      <td>BOLIB</td>\n",
       "      <td>QRPGLESRC</td>\n",
       "      <td>EXCHAIN</td>\n",
       "      <td>RPGLE</td>\n",
       "    </tr>\n",
       "    <tr>\n",
       "      <th>3</th>\n",
       "      <td>BOLIB</td>\n",
       "      <td>QRPGLESRC</td>\n",
       "      <td>FIXEDR2</td>\n",
       "      <td>RPGLE</td>\n",
       "    </tr>\n",
       "    <tr>\n",
       "      <th>4</th>\n",
       "      <td>BOLIB</td>\n",
       "      <td>QRPGLESRC</td>\n",
       "      <td>FIXEDTEST</td>\n",
       "      <td>RPGLE</td>\n",
       "    </tr>\n",
       "    <tr>\n",
       "      <th>5</th>\n",
       "      <td>BOLIB</td>\n",
       "      <td>QRPGLESRC</td>\n",
       "      <td>FIZZBUZZ</td>\n",
       "      <td>RPGLE</td>\n",
       "    </tr>\n",
       "    <tr>\n",
       "      <th>6</th>\n",
       "      <td>BOLIB</td>\n",
       "      <td>QRPGLESRC</td>\n",
       "      <td>HELLOQSH</td>\n",
       "      <td>RPGLE</td>\n",
       "    </tr>\n",
       "    <tr>\n",
       "      <th>7</th>\n",
       "      <td>BOLIB</td>\n",
       "      <td>QRPGLESRC</td>\n",
       "      <td>HXCVT</td>\n",
       "      <td>RPGLE</td>\n",
       "    </tr>\n",
       "    <tr>\n",
       "      <th>8</th>\n",
       "      <td>BOLIB</td>\n",
       "      <td>QRPGLESRC</td>\n",
       "      <td>OV10MILL01</td>\n",
       "      <td>SQLRPGLE</td>\n",
       "    </tr>\n",
       "    <tr>\n",
       "      <th>9</th>\n",
       "      <td>BOLIB</td>\n",
       "      <td>QRPGLESRC</td>\n",
       "      <td>OV10MILL2</td>\n",
       "      <td>RPGLE</td>\n",
       "    </tr>\n",
       "  </tbody>\n",
       "</table>\n",
       "</div>"
      ],
      "text/plain": [
       "  TABLE_SCHEMA TABLE_NAME TABLE_PARTITION SOURCE_TYPE\n",
       "0        BOLIB  QRPGLESRC         BTCHASH       RPGLE\n",
       "1        BOLIB  QRPGLESRC         CLR019B    SQLRPGLE\n",
       "2        BOLIB  QRPGLESRC         EXCHAIN       RPGLE\n",
       "3        BOLIB  QRPGLESRC         FIXEDR2       RPGLE\n",
       "4        BOLIB  QRPGLESRC       FIXEDTEST       RPGLE\n",
       "5        BOLIB  QRPGLESRC        FIZZBUZZ       RPGLE\n",
       "6        BOLIB  QRPGLESRC        HELLOQSH       RPGLE\n",
       "7        BOLIB  QRPGLESRC           HXCVT       RPGLE\n",
       "8        BOLIB  QRPGLESRC      OV10MILL01    SQLRPGLE\n",
       "9        BOLIB  QRPGLESRC       OV10MILL2       RPGLE"
      ]
     },
     "metadata": {},
     "output_type": "display_data"
    }
   ],
   "source": [
    "%%ibmi\n",
    "\n",
    "select TABLE_SCHEMA, TABLE_NAME, TABLE_PARTITION, SOURCE_TYPE\n",
    "from QSYS2.SYSPARTITIONSTAT\n",
    "where TABLE_SCHEMA='BOLIB'\n",
    "  and TABLE_NAME='QRPGLESRC'\n",
    "order by TABLE_PARTITION\n",
    "limit 10;"
   ]
  },
  {
   "cell_type": "markdown",
   "metadata": {},
   "source": [
    "## View an RPGLE Source Member"
   ]
  },
  {
   "cell_type": "code",
   "execution_count": 58,
   "metadata": {
    "scrolled": false
   },
   "outputs": [
    {
     "name": "stdout",
     "output_type": "stream",
     "text": [
      "Executing statement 1 of 3 ...\n",
      "Statement executed successfully\n",
      "Executing statement 2 of 3 ...\n"
     ]
    },
    {
     "data": {
      "text/html": [
       "<div>\n",
       "<style scoped>\n",
       "    .dataframe tbody tr th:only-of-type {\n",
       "        vertical-align: middle;\n",
       "    }\n",
       "\n",
       "    .dataframe tbody tr th {\n",
       "        vertical-align: top;\n",
       "    }\n",
       "\n",
       "    .dataframe thead th {\n",
       "        text-align: right;\n",
       "    }\n",
       "</style>\n",
       "<table border=\"1\" class=\"dataframe\">\n",
       "  <thead>\n",
       "    <tr style=\"text-align: right;\">\n",
       "      <th></th>\n",
       "      <th>SRCDAT</th>\n",
       "      <th>SRCDTA</th>\n",
       "    </tr>\n",
       "  </thead>\n",
       "  <tbody>\n",
       "    <tr>\n",
       "      <th>0</th>\n",
       "      <td>190402.0</td>\n",
       "      <td>/free</td>\n",
       "    </tr>\n",
       "    <tr>\n",
       "      <th>1</th>\n",
       "      <td>190402.0</td>\n",
       "      <td>// The classic fizzbuzz program in RPGLE Free</td>\n",
       "    </tr>\n",
       "    <tr>\n",
       "      <th>2</th>\n",
       "      <td>190402.0</td>\n",
       "      <td>dcl-s num int(10);</td>\n",
       "    </tr>\n",
       "    <tr>\n",
       "      <th>3</th>\n",
       "      <td>190402.0</td>\n",
       "      <td></td>\n",
       "    </tr>\n",
       "    <tr>\n",
       "      <th>4</th>\n",
       "      <td>190402.0</td>\n",
       "      <td>for num = 1 to 100;</td>\n",
       "    </tr>\n",
       "    <tr>\n",
       "      <th>5</th>\n",
       "      <td>190403.0</td>\n",
       "      <td>if %REM(num:3) = 0 and %REM(num:5) = 0;</td>\n",
       "    </tr>\n",
       "    <tr>\n",
       "      <th>6</th>\n",
       "      <td>190402.0</td>\n",
       "      <td>dsply ('num - ' + %char(num) + ' FIZZBUZZ');</td>\n",
       "    </tr>\n",
       "    <tr>\n",
       "      <th>7</th>\n",
       "      <td>190402.0</td>\n",
       "      <td>elseif %rem(num:3) = 0;</td>\n",
       "    </tr>\n",
       "    <tr>\n",
       "      <th>8</th>\n",
       "      <td>190402.0</td>\n",
       "      <td>dsply ('num - ' + %char(num) + ' FIZZ');</td>\n",
       "    </tr>\n",
       "    <tr>\n",
       "      <th>9</th>\n",
       "      <td>190402.0</td>\n",
       "      <td>elseif %rem(num:5) = 0;</td>\n",
       "    </tr>\n",
       "    <tr>\n",
       "      <th>10</th>\n",
       "      <td>190402.0</td>\n",
       "      <td>dsply ('num - ' + %char(num) + ' BUZZ');</td>\n",
       "    </tr>\n",
       "    <tr>\n",
       "      <th>11</th>\n",
       "      <td>190402.0</td>\n",
       "      <td>else;</td>\n",
       "    </tr>\n",
       "    <tr>\n",
       "      <th>12</th>\n",
       "      <td>190402.0</td>\n",
       "      <td>dsply ('num - ' + %char(num));</td>\n",
       "    </tr>\n",
       "    <tr>\n",
       "      <th>13</th>\n",
       "      <td>190402.0</td>\n",
       "      <td>endif;</td>\n",
       "    </tr>\n",
       "    <tr>\n",
       "      <th>14</th>\n",
       "      <td>190402.0</td>\n",
       "      <td>endfor;</td>\n",
       "    </tr>\n",
       "    <tr>\n",
       "      <th>15</th>\n",
       "      <td>190402.0</td>\n",
       "      <td>*INLR = *ON;</td>\n",
       "    </tr>\n",
       "  </tbody>\n",
       "</table>\n",
       "</div>"
      ],
      "text/plain": [
       "      SRCDAT  \\\n",
       "0   190402.0   \n",
       "1   190402.0   \n",
       "2   190402.0   \n",
       "3   190402.0   \n",
       "4   190402.0   \n",
       "5   190403.0   \n",
       "6   190402.0   \n",
       "7   190402.0   \n",
       "8   190402.0   \n",
       "9   190402.0   \n",
       "10  190402.0   \n",
       "11  190402.0   \n",
       "12  190402.0   \n",
       "13  190402.0   \n",
       "14  190402.0   \n",
       "15  190402.0   \n",
       "\n",
       "                                                                                                                                                                                                      SRCDTA  \n",
       "0          /free                                                                                                                                                                                              \n",
       "1          // The classic fizzbuzz program in RPGLE Free                                                                                                                                                      \n",
       "2          dcl-s num int(10);                                                                                                                                                                                 \n",
       "3                                                                                                                                                                                                             \n",
       "4          for num = 1 to 100;                                                                                                                                                                                \n",
       "5              if %REM(num:3) = 0 and %REM(num:5) = 0;                                                                                                                                                        \n",
       "6                  dsply ('num - ' + %char(num) + ' FIZZBUZZ');                                                                                                                                               \n",
       "7              elseif %rem(num:3) = 0;                                                                                                                                                                        \n",
       "8                  dsply ('num - ' + %char(num) + ' FIZZ');                                                                                                                                                   \n",
       "9              elseif %rem(num:5) = 0;                                                                                                                                                                        \n",
       "10                 dsply ('num - ' + %char(num) + ' BUZZ');                                                                                                                                                   \n",
       "11             else;                                                                                                                                                                                          \n",
       "12                 dsply ('num - ' + %char(num));                                                                                                                                                             \n",
       "13             endif;                                                                                                                                                                                         \n",
       "14         endfor;                                                                                                                                                                                            \n",
       "15         *INLR = *ON;                                                                                                                                                                                       "
      ]
     },
     "metadata": {},
     "output_type": "display_data"
    },
    {
     "name": "stdout",
     "output_type": "stream",
     "text": [
      "Executing statement 3 of 3 ...\n",
      "Statement executed successfully\n"
     ]
    }
   ],
   "source": [
    "%%ibmi \n",
    "create or replace alias QTEMP.TMPSRC1 for DEV400.BOLIB.QRPGLESRC(FIZZBUZZ);\n",
    "\n",
    "select SRCDAT, SRCDTA\n",
    "from QTEMP.TMPSRC1;\n",
    "\n",
    "drop alias QTEMP.TMPSRC1;"
   ]
  },
  {
   "cell_type": "markdown",
   "metadata": {},
   "source": [
    "## Calling an API with DB2"
   ]
  },
  {
   "cell_type": "code",
   "execution_count": 11,
   "metadata": {},
   "outputs": [
    {
     "name": "stdout",
     "output_type": "stream",
     "text": [
      "Executing...\n"
     ]
    },
    {
     "data": {
      "text/html": [
       "<div>\n",
       "<style scoped>\n",
       "    .dataframe tbody tr th:only-of-type {\n",
       "        vertical-align: middle;\n",
       "    }\n",
       "\n",
       "    .dataframe tbody tr th {\n",
       "        vertical-align: top;\n",
       "    }\n",
       "\n",
       "    .dataframe thead th {\n",
       "        text-align: right;\n",
       "    }\n",
       "</style>\n",
       "<table border=\"1\" class=\"dataframe\">\n",
       "  <thead>\n",
       "    <tr style=\"text-align: right;\">\n",
       "      <th></th>\n",
       "      <th>ID</th>\n",
       "      <th>USERNAME</th>\n",
       "      <th>URL</th>\n",
       "      <th>HOURS_WATCHED</th>\n",
       "    </tr>\n",
       "  </thead>\n",
       "  <tbody>\n",
       "    <tr>\n",
       "      <th>0</th>\n",
       "      <td>247578</td>\n",
       "      <td>barrettotte</td>\n",
       "      <td>https://anilist.co/user/247578</td>\n",
       "      <td>1639</td>\n",
       "    </tr>\n",
       "  </tbody>\n",
       "</table>\n",
       "</div>"
      ],
      "text/plain": [
       "           ID              USERNAME                               URL  \\\n",
       "0  247578      barrettotte           https://anilist.co/user/247578     \n",
       "\n",
       "   HOURS_WATCHED  \n",
       "0           1639  "
      ]
     },
     "execution_count": 11,
     "metadata": {},
     "output_type": "execute_result"
    }
   ],
   "source": [
    "%%ibmi\n",
    "\n",
    "select \n",
    "    id, \n",
    "    username, \n",
    "    url, \n",
    "    (minutes / 60) as hours_watched\n",
    "from json_table(\n",
    "    Systools.HttpPostClob(\n",
    "        'https://graphql.anilist.co',\n",
    "        cast('<httpHeader><header name=\"Content-Type\" value=\"application/json\"/></httpHeader>' as clob),\n",
    "        cast('{\"query\": \"{User(search:\\\"barrettotte\\\"){id name siteUrl stats{watchedTime}}}\"}' as clob)\n",
    "    ),\n",
    "    '$.data.User'\n",
    "    columns(\n",
    "        id       char(10) path '$.id',\n",
    "        username char(20) path '$.name',\n",
    "        url      char(32) path '$.siteUrl',\n",
    "        minutes  char(10) path '$.stats.watchedTime'\n",
    "    )\n",
    ");"
   ]
  }
 ],
 "metadata": {
  "kernelspec": {
   "display_name": "Python 3",
   "language": "python",
   "name": "python3"
  },
  "language_info": {
   "codemirror_mode": {
    "name": "ipython",
    "version": 3
   },
   "file_extension": ".py",
   "mimetype": "text/x-python",
   "name": "python",
   "nbconvert_exporter": "python",
   "pygments_lexer": "ipython3",
   "version": "3.7.0"
  }
 },
 "nbformat": 4,
 "nbformat_minor": 4
}
