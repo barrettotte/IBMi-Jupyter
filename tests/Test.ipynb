{
 "cells": [
  {
   "cell_type": "markdown",
   "metadata": {},
   "source": [
    "# IBMi Jupyter Examples\n",
    "\n",
    "Some examples of calling IBMi in Jupyter Notebooks"
   ]
  },
  {
   "cell_type": "code",
   "execution_count": 95,
   "metadata": {
    "scrolled": true
   },
   "outputs": [
    {
     "name": "stdout",
     "output_type": "stream",
     "text": [
      "Enter host: DEV400\n",
      "Enter user: OTTEB\n",
      "Enter password: ········\n",
      "Connecting to DEV400 as OTTEB ...\n",
      "Successfully connected!\n"
     ]
    }
   ],
   "source": [
    "# Run this to initialize IBMi notebook\n",
    "%run ../IBMi.ipynb"
   ]
  },
  {
   "cell_type": "markdown",
   "metadata": {},
   "source": [
    "## List QSYS Tables"
   ]
  },
  {
   "cell_type": "code",
   "execution_count": 113,
   "metadata": {
    "scrolled": false
   },
   "outputs": [
    {
     "name": "stdout",
     "output_type": "stream",
     "text": [
      "Executing statement 1 of 1 ...\n",
      "    Fetched 10 row(s) in 0.238 second(s)\n"
     ]
    },
    {
     "data": {
      "text/html": [
       "<div>\n",
       "<style scoped>\n",
       "    .dataframe tbody tr th:only-of-type {\n",
       "        vertical-align: middle;\n",
       "    }\n",
       "\n",
       "    .dataframe tbody tr th {\n",
       "        vertical-align: top;\n",
       "    }\n",
       "\n",
       "    .dataframe thead th {\n",
       "        text-align: right;\n",
       "    }\n",
       "</style>\n",
       "<table border=\"1\" class=\"dataframe\">\n",
       "  <thead>\n",
       "    <tr style=\"text-align: right;\">\n",
       "      <th></th>\n",
       "      <th>TABLE_NAME</th>\n",
       "      <th>TABLE_TEXT</th>\n",
       "    </tr>\n",
       "  </thead>\n",
       "  <tbody>\n",
       "    <tr>\n",
       "      <th>0</th>\n",
       "      <td>QSYS/FMWINFO</td>\n",
       "      <td>Output file for DSPFMWSTS</td>\n",
       "    </tr>\n",
       "    <tr>\n",
       "      <th>1</th>\n",
       "      <td>QSYS/QAANZLOG</td>\n",
       "      <td>Output file for PRTERRLOG *ANZLOG</td>\n",
       "    </tr>\n",
       "    <tr>\n",
       "      <th>2</th>\n",
       "      <td>QSYS/QABNDBND</td>\n",
       "      <td>System supplied outfile for DSPBNDDIR command.</td>\n",
       "    </tr>\n",
       "    <tr>\n",
       "      <th>3</th>\n",
       "      <td>QSYS/QABNDMBA</td>\n",
       "      <td>System supplied outfile for DSPMOD command.</td>\n",
       "    </tr>\n",
       "    <tr>\n",
       "      <th>4</th>\n",
       "      <td>QSYS/QABNDMCO</td>\n",
       "      <td>System supplied outfile for DSPMOD command.</td>\n",
       "    </tr>\n",
       "    <tr>\n",
       "      <th>5</th>\n",
       "      <td>QSYS/QABNDMEX</td>\n",
       "      <td>System supplied outfile for DSPMOD command.</td>\n",
       "    </tr>\n",
       "    <tr>\n",
       "      <th>6</th>\n",
       "      <td>QSYS/QABNDMIM</td>\n",
       "      <td>System supplied outfile for DSPMOD command.</td>\n",
       "    </tr>\n",
       "    <tr>\n",
       "      <th>7</th>\n",
       "      <td>QSYS/QABNDMPR</td>\n",
       "      <td>System supplied outfile for DSPMOD command.</td>\n",
       "    </tr>\n",
       "    <tr>\n",
       "      <th>8</th>\n",
       "      <td>QSYS/QABNDMRE</td>\n",
       "      <td>System supplied outfile for DSPMOD command.</td>\n",
       "    </tr>\n",
       "    <tr>\n",
       "      <th>9</th>\n",
       "      <td>QSYS/QABNDMSI</td>\n",
       "      <td>System supplied outfile for DSPMOD command.</td>\n",
       "    </tr>\n",
       "  </tbody>\n",
       "</table>\n",
       "</div>"
      ],
      "text/plain": [
       "      TABLE_NAME                                      TABLE_TEXT\n",
       "0   QSYS/FMWINFO                       Output file for DSPFMWSTS\n",
       "1  QSYS/QAANZLOG               Output file for PRTERRLOG *ANZLOG\n",
       "2  QSYS/QABNDBND  System supplied outfile for DSPBNDDIR command.\n",
       "3  QSYS/QABNDMBA     System supplied outfile for DSPMOD command.\n",
       "4  QSYS/QABNDMCO     System supplied outfile for DSPMOD command.\n",
       "5  QSYS/QABNDMEX     System supplied outfile for DSPMOD command.\n",
       "6  QSYS/QABNDMIM     System supplied outfile for DSPMOD command.\n",
       "7  QSYS/QABNDMPR     System supplied outfile for DSPMOD command.\n",
       "8  QSYS/QABNDMRE     System supplied outfile for DSPMOD command.\n",
       "9  QSYS/QABNDMSI     System supplied outfile for DSPMOD command."
      ]
     },
     "metadata": {},
     "output_type": "display_data"
    }
   ],
   "source": [
    "%%ibmi\n",
    "\n",
    "select TABLE_SCHEMA || '/' || TABLE_NAME as TABLE_NAME, TABLE_TEXT\n",
    "from QSYS2.SYSTABLES\n",
    "where TABLE_SCHEMA='QSYS'\n",
    "limit 10;"
   ]
  },
  {
   "cell_type": "markdown",
   "metadata": {},
   "source": [
    "## List Members in a Source Physical File"
   ]
  },
  {
   "cell_type": "code",
   "execution_count": 97,
   "metadata": {
    "scrolled": true
   },
   "outputs": [
    {
     "name": "stdout",
     "output_type": "stream",
     "text": [
      "Executing statement 1 of 1 ...\n",
      "    Fetched 10 row(s) in 0.353 second(s)\n"
     ]
    },
    {
     "data": {
      "text/html": [
       "<div>\n",
       "<style scoped>\n",
       "    .dataframe tbody tr th:only-of-type {\n",
       "        vertical-align: middle;\n",
       "    }\n",
       "\n",
       "    .dataframe tbody tr th {\n",
       "        vertical-align: top;\n",
       "    }\n",
       "\n",
       "    .dataframe thead th {\n",
       "        text-align: right;\n",
       "    }\n",
       "</style>\n",
       "<table border=\"1\" class=\"dataframe\">\n",
       "  <thead>\n",
       "    <tr style=\"text-align: right;\">\n",
       "      <th></th>\n",
       "      <th>TABLE_SCHEMA</th>\n",
       "      <th>TABLE_NAME</th>\n",
       "      <th>TABLE_PARTITION</th>\n",
       "      <th>SOURCE_TYPE</th>\n",
       "    </tr>\n",
       "  </thead>\n",
       "  <tbody>\n",
       "    <tr>\n",
       "      <th>0</th>\n",
       "      <td>BOLIB</td>\n",
       "      <td>QRPGLESRC</td>\n",
       "      <td>BTCHASH</td>\n",
       "      <td>RPGLE</td>\n",
       "    </tr>\n",
       "    <tr>\n",
       "      <th>1</th>\n",
       "      <td>BOLIB</td>\n",
       "      <td>QRPGLESRC</td>\n",
       "      <td>CLR019B</td>\n",
       "      <td>SQLRPGLE</td>\n",
       "    </tr>\n",
       "    <tr>\n",
       "      <th>2</th>\n",
       "      <td>BOLIB</td>\n",
       "      <td>QRPGLESRC</td>\n",
       "      <td>EXCHAIN</td>\n",
       "      <td>RPGLE</td>\n",
       "    </tr>\n",
       "    <tr>\n",
       "      <th>3</th>\n",
       "      <td>BOLIB</td>\n",
       "      <td>QRPGLESRC</td>\n",
       "      <td>FIXEDR2</td>\n",
       "      <td>RPGLE</td>\n",
       "    </tr>\n",
       "    <tr>\n",
       "      <th>4</th>\n",
       "      <td>BOLIB</td>\n",
       "      <td>QRPGLESRC</td>\n",
       "      <td>FIXEDTEST</td>\n",
       "      <td>RPGLE</td>\n",
       "    </tr>\n",
       "    <tr>\n",
       "      <th>5</th>\n",
       "      <td>BOLIB</td>\n",
       "      <td>QRPGLESRC</td>\n",
       "      <td>FIZZBUZZ</td>\n",
       "      <td>RPGLE</td>\n",
       "    </tr>\n",
       "    <tr>\n",
       "      <th>6</th>\n",
       "      <td>BOLIB</td>\n",
       "      <td>QRPGLESRC</td>\n",
       "      <td>HELLOQSH</td>\n",
       "      <td>RPGLE</td>\n",
       "    </tr>\n",
       "    <tr>\n",
       "      <th>7</th>\n",
       "      <td>BOLIB</td>\n",
       "      <td>QRPGLESRC</td>\n",
       "      <td>HXCVT</td>\n",
       "      <td>RPGLE</td>\n",
       "    </tr>\n",
       "    <tr>\n",
       "      <th>8</th>\n",
       "      <td>BOLIB</td>\n",
       "      <td>QRPGLESRC</td>\n",
       "      <td>OV10MILL01</td>\n",
       "      <td>SQLRPGLE</td>\n",
       "    </tr>\n",
       "    <tr>\n",
       "      <th>9</th>\n",
       "      <td>BOLIB</td>\n",
       "      <td>QRPGLESRC</td>\n",
       "      <td>OV10MILL2</td>\n",
       "      <td>RPGLE</td>\n",
       "    </tr>\n",
       "  </tbody>\n",
       "</table>\n",
       "</div>"
      ],
      "text/plain": [
       "  TABLE_SCHEMA TABLE_NAME TABLE_PARTITION SOURCE_TYPE\n",
       "0        BOLIB  QRPGLESRC         BTCHASH       RPGLE\n",
       "1        BOLIB  QRPGLESRC         CLR019B    SQLRPGLE\n",
       "2        BOLIB  QRPGLESRC         EXCHAIN       RPGLE\n",
       "3        BOLIB  QRPGLESRC         FIXEDR2       RPGLE\n",
       "4        BOLIB  QRPGLESRC       FIXEDTEST       RPGLE\n",
       "5        BOLIB  QRPGLESRC        FIZZBUZZ       RPGLE\n",
       "6        BOLIB  QRPGLESRC        HELLOQSH       RPGLE\n",
       "7        BOLIB  QRPGLESRC           HXCVT       RPGLE\n",
       "8        BOLIB  QRPGLESRC      OV10MILL01    SQLRPGLE\n",
       "9        BOLIB  QRPGLESRC       OV10MILL2       RPGLE"
      ]
     },
     "metadata": {},
     "output_type": "display_data"
    }
   ],
   "source": [
    "%%ibmi\n",
    "\n",
    "select TABLE_SCHEMA, TABLE_NAME, TABLE_PARTITION, SOURCE_TYPE\n",
    "from QSYS2.SYSPARTITIONSTAT\n",
    "where TABLE_SCHEMA='BOLIB'\n",
    "  and TABLE_NAME='QRPGLESRC'\n",
    "order by TABLE_PARTITION\n",
    "limit 10;"
   ]
  },
  {
   "cell_type": "markdown",
   "metadata": {},
   "source": [
    "## View an RPGLE Source Member"
   ]
  },
  {
   "cell_type": "code",
   "execution_count": 98,
   "metadata": {
    "scrolled": false
   },
   "outputs": [
    {
     "name": "stdout",
     "output_type": "stream",
     "text": [
      "Executing statement 1 of 3 ...\n",
      "    Statement executed successfully.\n",
      "    0 row(s) affected by statement.\n",
      "Executing statement 2 of 3 ...\n",
      "    Fetched 16 row(s) in 0.208 second(s)\n"
     ]
    },
    {
     "data": {
      "text/html": [
       "<div>\n",
       "<style scoped>\n",
       "    .dataframe tbody tr th:only-of-type {\n",
       "        vertical-align: middle;\n",
       "    }\n",
       "\n",
       "    .dataframe tbody tr th {\n",
       "        vertical-align: top;\n",
       "    }\n",
       "\n",
       "    .dataframe thead th {\n",
       "        text-align: right;\n",
       "    }\n",
       "</style>\n",
       "<table border=\"1\" class=\"dataframe\">\n",
       "  <thead>\n",
       "    <tr style=\"text-align: right;\">\n",
       "      <th></th>\n",
       "      <th>SRCDAT</th>\n",
       "      <th>SRCDTA</th>\n",
       "    </tr>\n",
       "  </thead>\n",
       "  <tbody>\n",
       "    <tr>\n",
       "      <th>0</th>\n",
       "      <td>190402</td>\n",
       "      <td>/free</td>\n",
       "    </tr>\n",
       "    <tr>\n",
       "      <th>1</th>\n",
       "      <td>190402</td>\n",
       "      <td>// The classic fizzbuzz program in RPGLE Free</td>\n",
       "    </tr>\n",
       "    <tr>\n",
       "      <th>2</th>\n",
       "      <td>190402</td>\n",
       "      <td>dcl-s num int(10);</td>\n",
       "    </tr>\n",
       "    <tr>\n",
       "      <th>3</th>\n",
       "      <td>190402</td>\n",
       "      <td></td>\n",
       "    </tr>\n",
       "    <tr>\n",
       "      <th>4</th>\n",
       "      <td>190402</td>\n",
       "      <td>for num = 1 to 100;</td>\n",
       "    </tr>\n",
       "    <tr>\n",
       "      <th>5</th>\n",
       "      <td>190403</td>\n",
       "      <td>if %REM(num:3) = 0 and %REM(num:5) = 0;</td>\n",
       "    </tr>\n",
       "    <tr>\n",
       "      <th>6</th>\n",
       "      <td>190402</td>\n",
       "      <td>dsply ('num - ' + %char(num) + ' FIZZBUZZ');</td>\n",
       "    </tr>\n",
       "    <tr>\n",
       "      <th>7</th>\n",
       "      <td>190402</td>\n",
       "      <td>elseif %rem(num:3) = 0;</td>\n",
       "    </tr>\n",
       "    <tr>\n",
       "      <th>8</th>\n",
       "      <td>190402</td>\n",
       "      <td>dsply ('num - ' + %char(num) + ' FIZZ');</td>\n",
       "    </tr>\n",
       "    <tr>\n",
       "      <th>9</th>\n",
       "      <td>190402</td>\n",
       "      <td>elseif %rem(num:5) = 0;</td>\n",
       "    </tr>\n",
       "    <tr>\n",
       "      <th>10</th>\n",
       "      <td>190402</td>\n",
       "      <td>dsply ('num - ' + %char(num) + ' BUZZ');</td>\n",
       "    </tr>\n",
       "    <tr>\n",
       "      <th>11</th>\n",
       "      <td>190402</td>\n",
       "      <td>else;</td>\n",
       "    </tr>\n",
       "    <tr>\n",
       "      <th>12</th>\n",
       "      <td>190402</td>\n",
       "      <td>dsply ('num - ' + %char(num));</td>\n",
       "    </tr>\n",
       "    <tr>\n",
       "      <th>13</th>\n",
       "      <td>190402</td>\n",
       "      <td>endif;</td>\n",
       "    </tr>\n",
       "    <tr>\n",
       "      <th>14</th>\n",
       "      <td>190402</td>\n",
       "      <td>endfor;</td>\n",
       "    </tr>\n",
       "    <tr>\n",
       "      <th>15</th>\n",
       "      <td>190402</td>\n",
       "      <td>*INLR = *ON;</td>\n",
       "    </tr>\n",
       "  </tbody>\n",
       "</table>\n",
       "</div>"
      ],
      "text/plain": [
       "    SRCDAT  \\\n",
       "0   190402   \n",
       "1   190402   \n",
       "2   190402   \n",
       "3   190402   \n",
       "4   190402   \n",
       "5   190403   \n",
       "6   190402   \n",
       "7   190402   \n",
       "8   190402   \n",
       "9   190402   \n",
       "10  190402   \n",
       "11  190402   \n",
       "12  190402   \n",
       "13  190402   \n",
       "14  190402   \n",
       "15  190402   \n",
       "\n",
       "                                                                                                                                                                                                      SRCDTA  \n",
       "0          /free                                                                                                                                                                                              \n",
       "1          // The classic fizzbuzz program in RPGLE Free                                                                                                                                                      \n",
       "2          dcl-s num int(10);                                                                                                                                                                                 \n",
       "3                                                                                                                                                                                                             \n",
       "4          for num = 1 to 100;                                                                                                                                                                                \n",
       "5              if %REM(num:3) = 0 and %REM(num:5) = 0;                                                                                                                                                        \n",
       "6                  dsply ('num - ' + %char(num) + ' FIZZBUZZ');                                                                                                                                               \n",
       "7              elseif %rem(num:3) = 0;                                                                                                                                                                        \n",
       "8                  dsply ('num - ' + %char(num) + ' FIZZ');                                                                                                                                                   \n",
       "9              elseif %rem(num:5) = 0;                                                                                                                                                                        \n",
       "10                 dsply ('num - ' + %char(num) + ' BUZZ');                                                                                                                                                   \n",
       "11             else;                                                                                                                                                                                          \n",
       "12                 dsply ('num - ' + %char(num));                                                                                                                                                             \n",
       "13             endif;                                                                                                                                                                                         \n",
       "14         endfor;                                                                                                                                                                                            \n",
       "15         *INLR = *ON;                                                                                                                                                                                       "
      ]
     },
     "metadata": {},
     "output_type": "display_data"
    },
    {
     "name": "stdout",
     "output_type": "stream",
     "text": [
      "Executing statement 3 of 3 ...\n",
      "    Statement executed successfully.\n",
      "    0 row(s) affected by statement.\n"
     ]
    }
   ],
   "source": [
    "%%ibmi \n",
    "create or replace alias QTEMP.TMPSRC1 for BOLIB.QRPGLESRC(FIZZBUZZ);\n",
    "\n",
    "select SRCDAT, SRCDTA from QTEMP.TMPSRC1;\n",
    "\n",
    "drop alias QTEMP.TMPSRC1;"
   ]
  },
  {
   "cell_type": "markdown",
   "metadata": {},
   "source": [
    "## Calling an API with DB2"
   ]
  },
  {
   "cell_type": "code",
   "execution_count": 100,
   "metadata": {},
   "outputs": [
    {
     "name": "stdout",
     "output_type": "stream",
     "text": [
      "Executing statement 1 of 1 ...\n",
      "    Fetched 1 row(s) in 1.974 second(s)\n"
     ]
    },
    {
     "data": {
      "text/html": [
       "<div>\n",
       "<style scoped>\n",
       "    .dataframe tbody tr th:only-of-type {\n",
       "        vertical-align: middle;\n",
       "    }\n",
       "\n",
       "    .dataframe tbody tr th {\n",
       "        vertical-align: top;\n",
       "    }\n",
       "\n",
       "    .dataframe thead th {\n",
       "        text-align: right;\n",
       "    }\n",
       "</style>\n",
       "<table border=\"1\" class=\"dataframe\">\n",
       "  <thead>\n",
       "    <tr style=\"text-align: right;\">\n",
       "      <th></th>\n",
       "      <th>ID</th>\n",
       "      <th>USERNAME</th>\n",
       "      <th>URL</th>\n",
       "      <th>HOURS_WATCHED</th>\n",
       "    </tr>\n",
       "  </thead>\n",
       "  <tbody>\n",
       "    <tr>\n",
       "      <th>0</th>\n",
       "      <td>247578</td>\n",
       "      <td>barrettotte</td>\n",
       "      <td>https://anilist.co/user/247578</td>\n",
       "      <td>1639</td>\n",
       "    </tr>\n",
       "  </tbody>\n",
       "</table>\n",
       "</div>"
      ],
      "text/plain": [
       "           ID              USERNAME                               URL  \\\n",
       "0  247578      barrettotte           https://anilist.co/user/247578     \n",
       "\n",
       "   HOURS_WATCHED  \n",
       "0           1639  "
      ]
     },
     "metadata": {},
     "output_type": "display_data"
    }
   ],
   "source": [
    "%%ibmi\n",
    "\n",
    "select id, username, url, (minutes / 60) as hours_watched\n",
    "from json_table(\n",
    "    Systools.HttpPostClob(\n",
    "        'https://graphql.anilist.co',\n",
    "        cast('<httpHeader><header name=\"Content-Type\" value=\"application/json\"/></httpHeader>' as clob),\n",
    "        cast('{\"query\": \"{User(search:\\\"barrettotte\\\"){id name siteUrl stats{watchedTime}}}\"}' as clob)\n",
    "    ),\n",
    "    '$.data.User'\n",
    "    columns(\n",
    "        id       char(10) path '$.id',\n",
    "        username char(20) path '$.name',\n",
    "        url      char(32) path '$.siteUrl',\n",
    "        minutes  char(10) path '$.stats.watchedTime'\n",
    "    )\n",
    ");"
   ]
  },
  {
   "cell_type": "markdown",
   "metadata": {},
   "source": [
    "## Testing Output Formats\n",
    "\n",
    "Dataframes make it super easy to output to whatever format, let's test it out"
   ]
  },
  {
   "cell_type": "code",
   "execution_count": 101,
   "metadata": {
    "scrolled": true
   },
   "outputs": [
    {
     "name": "stdout",
     "output_type": "stream",
     "text": [
      "Executing statement 1 of 1 ...\n",
      "    Fetched 5 row(s) in 0.497 second(s)\n"
     ]
    },
    {
     "data": {
      "text/html": [
       "<div>\n",
       "<style scoped>\n",
       "    .dataframe tbody tr th:only-of-type {\n",
       "        vertical-align: middle;\n",
       "    }\n",
       "\n",
       "    .dataframe tbody tr th {\n",
       "        vertical-align: top;\n",
       "    }\n",
       "\n",
       "    .dataframe thead th {\n",
       "        text-align: right;\n",
       "    }\n",
       "</style>\n",
       "<table border=\"1\" class=\"dataframe\">\n",
       "  <thead>\n",
       "    <tr style=\"text-align: right;\">\n",
       "      <th></th>\n",
       "      <th>TABLE_SCHEMA</th>\n",
       "      <th>TABLE_NAME</th>\n",
       "      <th>TABLE_TEXT</th>\n",
       "    </tr>\n",
       "  </thead>\n",
       "  <tbody>\n",
       "    <tr>\n",
       "      <th>0</th>\n",
       "      <td>QSYS</td>\n",
       "      <td>FMWINFO</td>\n",
       "      <td>Output file for DSPFMWSTS</td>\n",
       "    </tr>\n",
       "    <tr>\n",
       "      <th>1</th>\n",
       "      <td>QSYS</td>\n",
       "      <td>QAANZLOG</td>\n",
       "      <td>Output file for PRTERRLOG *ANZLOG</td>\n",
       "    </tr>\n",
       "    <tr>\n",
       "      <th>2</th>\n",
       "      <td>QSYS</td>\n",
       "      <td>QABNDBND</td>\n",
       "      <td>System supplied outfile for DSPBNDDIR command.</td>\n",
       "    </tr>\n",
       "    <tr>\n",
       "      <th>3</th>\n",
       "      <td>QSYS</td>\n",
       "      <td>QABNDMBA</td>\n",
       "      <td>System supplied outfile for DSPMOD command.</td>\n",
       "    </tr>\n",
       "    <tr>\n",
       "      <th>4</th>\n",
       "      <td>QSYS</td>\n",
       "      <td>QABNDMCO</td>\n",
       "      <td>System supplied outfile for DSPMOD command.</td>\n",
       "    </tr>\n",
       "  </tbody>\n",
       "</table>\n",
       "</div>"
      ],
      "text/plain": [
       "  TABLE_SCHEMA TABLE_NAME                                      TABLE_TEXT\n",
       "0         QSYS    FMWINFO                       Output file for DSPFMWSTS\n",
       "1         QSYS   QAANZLOG               Output file for PRTERRLOG *ANZLOG\n",
       "2         QSYS   QABNDBND  System supplied outfile for DSPBNDDIR command.\n",
       "3         QSYS   QABNDMBA     System supplied outfile for DSPMOD command.\n",
       "4         QSYS   QABNDMCO     System supplied outfile for DSPMOD command."
      ]
     },
     "metadata": {},
     "output_type": "display_data"
    }
   ],
   "source": [
    "%%ibmi\n",
    "\n",
    "select TABLE_SCHEMA, TABLE_NAME as TABLE_NAME, TABLE_TEXT\n",
    "from QSYS2.SYSTABLES\n",
    "where TABLE_SCHEMA='QSYS'\n",
    "limit 5;"
   ]
  },
  {
   "cell_type": "code",
   "execution_count": 102,
   "metadata": {},
   "outputs": [
    {
     "name": "stdout",
     "output_type": "stream",
     "text": [
      "Executing statement 1 of 1 ...\n",
      "    Fetched 5 row(s) in 0.916 second(s)\n"
     ]
    },
    {
     "data": {
      "text/plain": [
       "'[{\"TABLE_SCHEMA\":\"QSYS\",\"TABLE_NAME\":\"FMWINFO\",\"TABLE_TEXT\":\"Output file for DSPFMWSTS\"},{\"TABLE_SCHEMA\":\"QSYS\",\"TABLE_NAME\":\"QAANZLOG\",\"TABLE_TEXT\":\"Output file for PRTERRLOG *ANZLOG\"},{\"TABLE_SCHEMA\":\"QSYS\",\"TABLE_NAME\":\"QABNDBND\",\"TABLE_TEXT\":\"System supplied outfile for DSPBNDDIR command.\"},{\"TABLE_SCHEMA\":\"QSYS\",\"TABLE_NAME\":\"QABNDMBA\",\"TABLE_TEXT\":\"System supplied outfile for DSPMOD command.\"},{\"TABLE_SCHEMA\":\"QSYS\",\"TABLE_NAME\":\"QABNDMCO\",\"TABLE_TEXT\":\"System supplied outfile for DSPMOD command.\"}]'"
      ]
     },
     "metadata": {},
     "output_type": "display_data"
    }
   ],
   "source": [
    "%%ibmi -json\n",
    "\n",
    "select TABLE_SCHEMA, TABLE_NAME as TABLE_NAME, TABLE_TEXT\n",
    "from QSYS2.SYSTABLES\n",
    "where TABLE_SCHEMA='QSYS'\n",
    "limit 5;"
   ]
  },
  {
   "cell_type": "code",
   "execution_count": 103,
   "metadata": {},
   "outputs": [
    {
     "name": "stdout",
     "output_type": "stream",
     "text": [
      "Executing statement 1 of 1 ...\n",
      "    Fetched 5 row(s) in 0.437 second(s)\n"
     ]
    },
    {
     "data": {
      "text/plain": [
       "'TABLE_SCHEMA,TABLE_NAME,TABLE_TEXT\\r\\nQSYS,FMWINFO,Output file for DSPFMWSTS\\r\\nQSYS,QAANZLOG,Output file for PRTERRLOG *ANZLOG\\r\\nQSYS,QABNDBND,System supplied outfile for DSPBNDDIR command.\\r\\nQSYS,QABNDMBA,System supplied outfile for DSPMOD command.\\r\\nQSYS,QABNDMCO,System supplied outfile for DSPMOD command.\\r\\n'"
      ]
     },
     "metadata": {},
     "output_type": "display_data"
    }
   ],
   "source": [
    "%%ibmi -csv\n",
    "\n",
    "select TABLE_SCHEMA, TABLE_NAME as TABLE_NAME, TABLE_TEXT\n",
    "from QSYS2.SYSTABLES\n",
    "where TABLE_SCHEMA='QSYS'\n",
    "limit 5;"
   ]
  },
  {
   "cell_type": "code",
   "execution_count": 104,
   "metadata": {},
   "outputs": [
    {
     "name": "stdout",
     "output_type": "stream",
     "text": [
      "Executing statement 1 of 1 ...\n",
      "    Fetched 5 row(s) in 1.644 second(s)\n"
     ]
    },
    {
     "data": {
      "text/plain": [
       "'<table border=\"1\" class=\"dataframe\">\\n  <thead>\\n    <tr style=\"text-align: right;\">\\n      <th></th>\\n      <th>TABLE_SCHEMA</th>\\n      <th>TABLE_NAME</th>\\n      <th>TABLE_TEXT</th>\\n    </tr>\\n  </thead>\\n  <tbody>\\n    <tr>\\n      <th>0</th>\\n      <td>QSYS</td>\\n      <td>FMWINFO</td>\\n      <td>Output file for DSPFMWSTS</td>\\n    </tr>\\n    <tr>\\n      <th>1</th>\\n      <td>QSYS</td>\\n      <td>QAANZLOG</td>\\n      <td>Output file for PRTERRLOG *ANZLOG</td>\\n    </tr>\\n    <tr>\\n      <th>2</th>\\n      <td>QSYS</td>\\n      <td>QABNDBND</td>\\n      <td>System supplied outfile for DSPBNDDIR command.</td>\\n    </tr>\\n    <tr>\\n      <th>3</th>\\n      <td>QSYS</td>\\n      <td>QABNDMBA</td>\\n      <td>System supplied outfile for DSPMOD command.</td>\\n    </tr>\\n    <tr>\\n      <th>4</th>\\n      <td>QSYS</td>\\n      <td>QABNDMCO</td>\\n      <td>System supplied outfile for DSPMOD command.</td>\\n    </tr>\\n  </tbody>\\n</table>'"
      ]
     },
     "metadata": {},
     "output_type": "display_data"
    }
   ],
   "source": [
    "%%ibmi -html\n",
    "\n",
    "select TABLE_SCHEMA, TABLE_NAME as TABLE_NAME, TABLE_TEXT\n",
    "from QSYS2.SYSTABLES\n",
    "where TABLE_SCHEMA='QSYS'\n",
    "limit 5;"
   ]
  },
  {
   "cell_type": "code",
   "execution_count": 105,
   "metadata": {},
   "outputs": [
    {
     "name": "stdout",
     "output_type": "stream",
     "text": [
      "Executing statement 1 of 1 ...\n",
      "    Fetched 5 row(s) in 0.34 second(s)\n"
     ]
    },
    {
     "data": {
      "text/plain": [
       "'\\\\begin{tabular}{lll}\\n\\\\toprule\\nTABLE\\\\_SCHEMA & TABLE\\\\_NAME &                                      TABLE\\\\_TEXT \\\\\\\\\\n\\\\midrule\\n        QSYS &    FMWINFO &                       Output file for DSPFMWSTS \\\\\\\\\\n        QSYS &   QAANZLOG &               Output file for PRTERRLOG *ANZLOG \\\\\\\\\\n        QSYS &   QABNDBND &  System supplied outfile for DSPBNDDIR command. \\\\\\\\\\n        QSYS &   QABNDMBA &     System supplied outfile for DSPMOD command. \\\\\\\\\\n        QSYS &   QABNDMCO &     System supplied outfile for DSPMOD command. \\\\\\\\\\n\\\\bottomrule\\n\\\\end{tabular}\\n'"
      ]
     },
     "metadata": {},
     "output_type": "display_data"
    }
   ],
   "source": [
    "%%ibmi -tex\n",
    "\n",
    "select TABLE_SCHEMA, TABLE_NAME as TABLE_NAME, TABLE_TEXT\n",
    "from QSYS2.SYSTABLES\n",
    "where TABLE_SCHEMA='QSYS'\n",
    "limit 5;"
   ]
  },
  {
   "cell_type": "code",
   "execution_count": 106,
   "metadata": {},
   "outputs": [
    {
     "name": "stdout",
     "output_type": "stream",
     "text": [
      "Executing statement 1 of 1 ...\n",
      "    Fetched 5 row(s) in 0.741 second(s)\n"
     ]
    },
    {
     "data": {
      "text/plain": [
       "'TABLE_SCHEMA TABLE_NAME                                      TABLE_TEXT\\n        QSYS    FMWINFO                       Output file for DSPFMWSTS\\n        QSYS   QAANZLOG               Output file for PRTERRLOG *ANZLOG\\n        QSYS   QABNDBND  System supplied outfile for DSPBNDDIR command.\\n        QSYS   QABNDMBA     System supplied outfile for DSPMOD command.\\n        QSYS   QABNDMCO     System supplied outfile for DSPMOD command.'"
      ]
     },
     "metadata": {},
     "output_type": "display_data"
    }
   ],
   "source": [
    "%%ibmi -str\n",
    "\n",
    "select TABLE_SCHEMA, TABLE_NAME as TABLE_NAME, TABLE_TEXT\n",
    "from QSYS2.SYSTABLES\n",
    "where TABLE_SCHEMA='QSYS'\n",
    "limit 5;"
   ]
  },
  {
   "cell_type": "code",
   "execution_count": 107,
   "metadata": {},
   "outputs": [
    {
     "name": "stdout",
     "output_type": "stream",
     "text": [
      "Executing statement 1 of 1 ...\n",
      "    Fetched 5 row(s) in 0.459 second(s)\n"
     ]
    },
    {
     "data": {
      "text/plain": [
       "'<rows><row><col name=\"TABLE_SCHEMA\">QSYS</col><col name=\"TABLE_NAME\">FMWINFO</col><col name=\"TABLE_TEXT\">Output file for DSPFMWSTS</col></row><row><col name=\"TABLE_SCHEMA\">QSYS</col><col name=\"TABLE_NAME\">QAANZLOG</col><col name=\"TABLE_TEXT\">Output file for PRTERRLOG *ANZLOG</col></row><row><col name=\"TABLE_SCHEMA\">QSYS</col><col name=\"TABLE_NAME\">QABNDBND</col><col name=\"TABLE_TEXT\">System supplied outfile for DSPBNDDIR command.</col></row><row><col name=\"TABLE_SCHEMA\">QSYS</col><col name=\"TABLE_NAME\">QABNDMBA</col><col name=\"TABLE_TEXT\">System supplied outfile for DSPMOD command.</col></row><row><col name=\"TABLE_SCHEMA\">QSYS</col><col name=\"TABLE_NAME\">QABNDMCO</col><col name=\"TABLE_TEXT\">System supplied outfile for DSPMOD command.</col></row></rows>'"
      ]
     },
     "metadata": {},
     "output_type": "display_data"
    }
   ],
   "source": [
    "%%ibmi -xml\n",
    "\n",
    "select TABLE_SCHEMA, TABLE_NAME as TABLE_NAME, TABLE_TEXT\n",
    "from QSYS2.SYSTABLES\n",
    "where TABLE_SCHEMA='QSYS'\n",
    "limit 5;"
   ]
  },
  {
   "cell_type": "markdown",
   "metadata": {},
   "source": [
    "## Testing Graphs"
   ]
  },
  {
   "cell_type": "code",
   "execution_count": 108,
   "metadata": {},
   "outputs": [
    {
     "name": "stdout",
     "output_type": "stream",
     "text": [
      "Executing statement 1 of 1 ...\n",
      "    Fetched 11 row(s) in 1.131 second(s)\n"
     ]
    },
    {
     "data": {
      "image/png": "[encoded data removed]",
      "text/plain": [
       "<Figure size 432x288 with 1 Axes>"
      ]
     },
     "metadata": {
      "needs_background": "light"
     },
     "output_type": "display_data"
    }
   ],
   "source": [
    "%%ibmi -plotbar\n",
    "\n",
    "select SOURCE_TYPE, count(SOURCE_TYPE) as TOTAL\n",
    "from QSYS2.SYSPARTITIONSTAT\n",
    "where TABLE_SCHEMA='BOLIB'\n",
    "    and SOURCE_TYPE is not null\n",
    "group by SOURCE_TYPE;"
   ]
  },
  {
   "cell_type": "code",
   "execution_count": 109,
   "metadata": {},
   "outputs": [
    {
     "name": "stdout",
     "output_type": "stream",
     "text": [
      "Executing statement 1 of 1 ...\n",
      "    Fetched 11 row(s) in 0.76 second(s)\n"
     ]
    },
    {
     "data": {
      "image/png": "[encoded data removed]",
      "text/plain": [
       "<Figure size 432x288 with 1 Axes>"
      ]
     },
     "metadata": {},
     "output_type": "display_data"
    }
   ],
   "source": [
    "%%ibmi -plotpie\n",
    "\n",
    "select SOURCE_TYPE, count(SOURCE_TYPE) as TOTAL\n",
    "from QSYS2.SYSPARTITIONSTAT\n",
    "where TABLE_SCHEMA='BOLIB'\n",
    "    and SOURCE_TYPE is not null\n",
    "group by SOURCE_TYPE;"
   ]
  },
  {
   "cell_type": "code",
   "execution_count": 110,
   "metadata": {
    "scrolled": true
   },
   "outputs": [
    {
     "name": "stdout",
     "output_type": "stream",
     "text": [
      "Executing statement 1 of 1 ...\n",
      "    Fetched 11 row(s) in 0.907 second(s)\n"
     ]
    },
    {
     "data": {
      "image/png": "[encoded data removed]",
      "text/plain": [
       "<Figure size 432x288 with 1 Axes>"
      ]
     },
     "metadata": {
      "needs_background": "light"
     },
     "output_type": "display_data"
    }
   ],
   "source": [
    "%%ibmi -plotline\n",
    "\n",
    "select SOURCE_TYPE, count(SOURCE_TYPE) as TOTAL\n",
    "from QSYS2.SYSPARTITIONSTAT\n",
    "where TABLE_SCHEMA='BOLIB'\n",
    "    and SOURCE_TYPE is not null\n",
    "group by SOURCE_TYPE;"
   ]
  }
 ],
 "metadata": {
  "kernelspec": {
   "display_name": "Python 3",
   "language": "python",
   "name": "python3"
  },
  "language_info": {
   "codemirror_mode": {
    "name": "ipython",
    "version": 3
   },
   "file_extension": ".py",
   "mimetype": "text/x-python",
   "name": "python",
   "nbconvert_exporter": "python",
   "pygments_lexer": "ipython3",
   "version": "3.7.0"
  }
 },
 "nbformat": 4,
 "nbformat_minor": 4
}
