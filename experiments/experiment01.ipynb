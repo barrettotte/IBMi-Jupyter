{
 "cells": [
  {
   "cell_type": "code",
   "execution_count": null,
   "metadata": {},
   "outputs": [],
   "source": [
    "import pyodbc\n",
    "import pandas as pd\n",
    "from ipywidgets import widgets, Text, HBox\n",
    "from IPython.display import display\n",
    "from IPython.utils import io\n",
    "\n",
    "# disable pandas df display limit, trust user to limit query results\n",
    "pd.set_option('display.max_rows', None)\n",
    "pd.set_option('display.max_columns', None)\n",
    "pd.set_option('display.width', None)\n",
    "pd.set_option('display.max_colwidth', None)\n",
    "\n",
    "w_host_list = widgets.Text(placeholder='Enter hosts (comma delimited)', description='Hosts: ')\n",
    "display(w_host_list)"
   ]
  },
  {
   "cell_type": "code",
   "execution_count": null,
   "metadata": {},
   "outputs": [],
   "source": [
    "host_list = [h for h in w_host_list.value.split(',') if len(h.strip()) > 0]\n",
    "\n",
    "if len(host_list) > 0:\n",
    "    w_host = widgets.Dropdown(options=host_list, value=host_list[0], description='Host: ')\n",
    "else:\n",
    "    w_host = widgets.Text(placeholder='Enter host', description='Host: ')\n",
    "w_user = widgets.Text(placeholder='Enter user', description='User: ')\n",
    "w_pwd = widgets.Password(placeholder='Enter password', description='Password: ')\n",
    "display(HBox((w_host, w_user, w_pwd)))"
   ]
  },
  {
   "cell_type": "code",
   "execution_count": null,
   "metadata": {},
   "outputs": [],
   "source": [
    "%load_ext sql"
   ]
  },
  {
   "cell_type": "code",
   "execution_count": null,
   "metadata": {},
   "outputs": [],
   "source": [
    "# Ignore the fact that it says 'mssql', it will work fine\n",
    "host,user,pwd,driver = w_host.value.strip(), w_user.value.strip(), w_pwd.value, 'IBM+i+Access+ODBC+Driver'\n",
    "connection_string = 'mssql+pyodbc://{}:{}@{}?driver={}&system={}'.format(user,pwd,host,driver,host)"
   ]
  },
  {
   "cell_type": "code",
   "execution_count": null,
   "metadata": {},
   "outputs": [],
   "source": [
    "with io.capture_output() as captured:\n",
    "    try:\n",
    "        %sql $connection_string\n",
    "    except pyodbc.Error as ex:\n",
    "        pass\n",
    "\n",
    "%sql "
   ]
  },
  {
   "cell_type": "code",
   "execution_count": null,
   "metadata": {},
   "outputs": [],
   "source": [
    "%%sql \n",
    "select * from QSYS2.SYSTABLES limit 3"
   ]
  }
 ],
 "metadata": {
  "kernelspec": {
   "display_name": "Python 3",
   "language": "python",
   "name": "python3"
  },
  "language_info": {
   "codemirror_mode": {
    "name": "ipython",
    "version": 3
   },
   "file_extension": ".py",
   "mimetype": "text/x-python",
   "name": "python",
   "nbconvert_exporter": "python",
   "pygments_lexer": "ipython3",
   "version": "3.7.0"
  }
 },
 "nbformat": 4,
 "nbformat_minor": 4
}
