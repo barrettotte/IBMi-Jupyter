{
 "cells": [
  {
   "cell_type": "markdown",
   "metadata": {},
   "source": [
    "## Testing IBMi + Jupyter Notebooks"
   ]
  },
  {
   "cell_type": "code",
   "execution_count": null,
   "metadata": {},
   "outputs": [],
   "source": [
    "import pyodbc, getpass\n",
    "import pandas as pd\n",
    "from ipywidgets import interact, interactive, widgets\n",
    "from IPython.display import display\n",
    "\n",
    "HOST_OPTS = ['BOX1', 'BOX2', 'PUB400.COM']\n",
    "\n",
    "\n",
    "# Get user credentials\n",
    "# Usage: execute cell once, enter credentials, move to next cell\n",
    "\n",
    "w_host = widgets.Dropdown(options=HOST_OPTS, value=HOST_OPTS[0], description='Host: ')\n",
    "display(w_host)\n",
    "\n",
    "w_user = widgets.Text(placeholder='Enter user', description='User: ')\n",
    "display(w_user)\n",
    "\n",
    "w_pwd = widgets.Password(placeholder='Enter password', description='Password: ')\n",
    "display(w_pwd)\n",
    "\n",
    "\n",
    "# TODO: radio button toggle fixed vs manual hosts?"
   ]
  },
  {
   "cell_type": "code",
   "execution_count": null,
   "metadata": {},
   "outputs": [],
   "source": [
    "# TODO: sliders / filters on query ?\n",
    "SQL = ''\n"
   ]
  },
  {
   "cell_type": "code",
   "execution_count": null,
   "metadata": {
    "scrolled": true
   },
   "outputs": [],
   "source": [
    "host=w_host.value\n",
    "user=w_user.value\n",
    "pwd=w_pwd.value\n",
    "\n",
    "print('Connecting to {} as {} ...'.format(host, user))\n",
    "\n",
    "conn = pyodbc.connect(driver='{IBM i Access ODBC Driver}', system=host, uid=user, pwd=pwd)\n",
    "\n",
    "try:\n",
    "    print('Executing\\n  ' + SQL)\n",
    "    df = pd.read_sql(SQL, conn)\n",
    "    display(df)\n",
    "except Exception as e:\n",
    "    print('Error occurred with DB2 query\\n  ' + str(e))\n",
    "finally:\n",
    "    conn.close()\n",
    "    "
   ]
  },
  {
   "cell_type": "code",
   "execution_count": null,
   "metadata": {
    "scrolled": true
   },
   "outputs": [],
   "source": []
  }
 ],
 "metadata": {
  "kernelspec": {
   "display_name": "Python 3",
   "language": "python",
   "name": "python3"
  },
  "language_info": {
   "codemirror_mode": {
    "name": "ipython",
    "version": 3
   },
   "file_extension": ".py",
   "mimetype": "text/x-python",
   "name": "python",
   "nbconvert_exporter": "python",
   "pygments_lexer": "ipython3",
   "version": "3.7.0"
  }
 },
 "nbformat": 4,
 "nbformat_minor": 4
}
