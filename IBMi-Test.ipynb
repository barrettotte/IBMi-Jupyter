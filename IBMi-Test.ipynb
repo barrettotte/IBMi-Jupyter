{
 "cells": [
  {
   "cell_type": "markdown",
   "metadata": {},
   "source": [
    "# IBMi + Jupyter Notebooks Template\n",
    "\n",
    "Using Jupyter cell magic to execute DB2 for i queries"
   ]
  },
  {
   "cell_type": "markdown",
   "metadata": {},
   "source": [
    "### Configure IBMi Hosts"
   ]
  },
  {
   "cell_type": "code",
   "execution_count": 1,
   "metadata": {},
   "outputs": [
    {
     "data": {
      "application/vnd.jupyter.widget-view+json": {
       "model_id": "2677d1e7c18d466a9b45d59060a03abe",
       "version_major": 2,
       "version_minor": 0
      },
      "text/plain": [
       "Text(value='', description='Hosts: ', placeholder='Enter hosts (comma delimited)')"
      ]
     },
     "metadata": {},
     "output_type": "display_data"
    }
   ],
   "source": [
    "import pyodbc\n",
    "import pandas as pd\n",
    "from ipywidgets import widgets, Text, HBox\n",
    "from IPython.display import display\n",
    "from IPython.core.magic import register_cell_magic\n",
    "\n",
    "# disable pandas df display limit, trust user to limit query results\n",
    "pd.set_option('display.max_rows', None)\n",
    "pd.set_option('display.max_columns', None)\n",
    "pd.set_option('display.width', None)\n",
    "pd.set_option('display.max_colwidth', None)\n",
    "\n",
    "w_host_list = widgets.Text(placeholder='Enter hosts (comma delimited)', description='Hosts: ')\n",
    "display(w_host_list)"
   ]
  },
  {
   "cell_type": "markdown",
   "metadata": {},
   "source": [
    "### Enter Credentials"
   ]
  },
  {
   "cell_type": "code",
   "execution_count": 2,
   "metadata": {
    "scrolled": true
   },
   "outputs": [
    {
     "data": {
      "application/vnd.jupyter.widget-view+json": {
       "model_id": "9a59c191277e4f57953974453bbbb650",
       "version_major": 2,
       "version_minor": 0
      },
      "text/plain": [
       "HBox(children=(Text(value='', description='Host: ', placeholder='Enter host'), Text(value='', description='Use…"
      ]
     },
     "metadata": {},
     "output_type": "display_data"
    }
   ],
   "source": [
    "host_list = [h for h in w_host_list.value.split(',') if len(h.strip()) > 0]\n",
    "\n",
    "if len(host_list) > 0:\n",
    "    w_host = widgets.Dropdown(options=host_list, value=host_list[0], description='Host: ')\n",
    "else:\n",
    "    w_host = widgets.Text(placeholder='Enter host', description='Host: ')\n",
    "w_user = widgets.Text(placeholder='Enter user', description='User: ')\n",
    "w_pwd = widgets.Password(placeholder='Enter password', description='Password: ')\n",
    "\n",
    "display(HBox((w_host, w_user, w_pwd)))"
   ]
  },
  {
   "cell_type": "markdown",
   "metadata": {},
   "source": [
    "### Notebook setup\n",
    "(You shouldn't have to edit this)"
   ]
  },
  {
   "cell_type": "code",
   "execution_count": 3,
   "metadata": {
    "scrolled": true
   },
   "outputs": [
    {
     "name": "stdout",
     "output_type": "stream",
     "text": [
      "Successfully connected to host 'DEV400' as user 'OTTEB'\n"
     ]
    }
   ],
   "source": [
    "host,user,pwd = w_host.value.strip(), w_user.value.strip(), w_pwd.value\n",
    "conn = pyodbc.connect(driver='{IBM i Access ODBC Driver}', system=host, uid=user, pwd=pwd)\n",
    "print(\"Successfully connected to host '{}' as user '{}'\".format(host, user))\n",
    "\n",
    "# Add IBMi DB2 SQL magic: invoke using %%db2i\n",
    "@register_cell_magic\n",
    "def db2i(line, cell):\n",
    "    sql = ' '.join([x.replace('{','{{').replace('}','}}').replace('\\n','').strip() for x in cell.split('\\n')])\n",
    "    if len(sql) > 0:\n",
    "        sql = sql.format(**globals())\n",
    "        if line.strip() != '-':\n",
    "            return pd.read_sql(sql, conn)\n",
    "        else:\n",
    "            conn.execute(sql)\n",
    "    else:\n",
    "        print('Cannot execute blank query')\n",
    "del db2i"
   ]
  },
  {
   "cell_type": "code",
   "execution_count": 4,
   "metadata": {
    "scrolled": false
   },
   "outputs": [
    {
     "data": {
      "text/html": [
       "<div>\n",
       "<style scoped>\n",
       "    .dataframe tbody tr th:only-of-type {\n",
       "        vertical-align: middle;\n",
       "    }\n",
       "\n",
       "    .dataframe tbody tr th {\n",
       "        vertical-align: top;\n",
       "    }\n",
       "\n",
       "    .dataframe thead th {\n",
       "        text-align: right;\n",
       "    }\n",
       "</style>\n",
       "<table border=\"1\" class=\"dataframe\">\n",
       "  <thead>\n",
       "    <tr style=\"text-align: right;\">\n",
       "      <th></th>\n",
       "      <th>TABLE_SCHEMA</th>\n",
       "      <th>TABLE_NAME</th>\n",
       "      <th>TABLE_PARTITION</th>\n",
       "      <th>SOURCE_TYPE</th>\n",
       "    </tr>\n",
       "  </thead>\n",
       "  <tbody>\n",
       "    <tr>\n",
       "      <th>0</th>\n",
       "      <td>BOLIB</td>\n",
       "      <td>QRPGLESRC</td>\n",
       "      <td>BTCHASH</td>\n",
       "      <td>RPGLE</td>\n",
       "    </tr>\n",
       "    <tr>\n",
       "      <th>1</th>\n",
       "      <td>BOLIB</td>\n",
       "      <td>QRPGLESRC</td>\n",
       "      <td>CLR019B</td>\n",
       "      <td>SQLRPGLE</td>\n",
       "    </tr>\n",
       "    <tr>\n",
       "      <th>2</th>\n",
       "      <td>BOLIB</td>\n",
       "      <td>QRPGLESRC</td>\n",
       "      <td>FIZZBUZZ</td>\n",
       "      <td>RPGLE</td>\n",
       "    </tr>\n",
       "    <tr>\n",
       "      <th>3</th>\n",
       "      <td>BOLIB</td>\n",
       "      <td>QRPGLESRC</td>\n",
       "      <td>HXCVT</td>\n",
       "      <td>RPGLE</td>\n",
       "    </tr>\n",
       "    <tr>\n",
       "      <th>4</th>\n",
       "      <td>BOLIB</td>\n",
       "      <td>QRPGLESRC</td>\n",
       "      <td>PGMCALL</td>\n",
       "      <td>RPGLE</td>\n",
       "    </tr>\n",
       "    <tr>\n",
       "      <th>5</th>\n",
       "      <td>BOLIB</td>\n",
       "      <td>QRPGLESRC</td>\n",
       "      <td>POPADDRGEO</td>\n",
       "      <td>SQLRPGLE</td>\n",
       "    </tr>\n",
       "    <tr>\n",
       "      <th>6</th>\n",
       "      <td>BOLIB</td>\n",
       "      <td>QRPGLESRC</td>\n",
       "      <td>RPGTESTING</td>\n",
       "      <td>SQLRPGLE</td>\n",
       "    </tr>\n",
       "    <tr>\n",
       "      <th>7</th>\n",
       "      <td>BOLIB</td>\n",
       "      <td>QRPGLESRC</td>\n",
       "      <td>SHA256</td>\n",
       "      <td>RPGLE</td>\n",
       "    </tr>\n",
       "    <tr>\n",
       "      <th>8</th>\n",
       "      <td>BOLIB</td>\n",
       "      <td>QRPGLESRC</td>\n",
       "      <td>TESTPOPUP</td>\n",
       "      <td>RPGLE</td>\n",
       "    </tr>\n",
       "  </tbody>\n",
       "</table>\n",
       "</div>"
      ],
      "text/plain": [
       "  TABLE_SCHEMA TABLE_NAME TABLE_PARTITION SOURCE_TYPE\n",
       "0        BOLIB  QRPGLESRC         BTCHASH       RPGLE\n",
       "1        BOLIB  QRPGLESRC         CLR019B    SQLRPGLE\n",
       "2        BOLIB  QRPGLESRC        FIZZBUZZ       RPGLE\n",
       "3        BOLIB  QRPGLESRC           HXCVT       RPGLE\n",
       "4        BOLIB  QRPGLESRC         PGMCALL       RPGLE\n",
       "5        BOLIB  QRPGLESRC      POPADDRGEO    SQLRPGLE\n",
       "6        BOLIB  QRPGLESRC      RPGTESTING    SQLRPGLE\n",
       "7        BOLIB  QRPGLESRC          SHA256       RPGLE\n",
       "8        BOLIB  QRPGLESRC       TESTPOPUP       RPGLE"
      ]
     },
     "execution_count": 4,
     "metadata": {},
     "output_type": "execute_result"
    }
   ],
   "source": [
    "%%db2i \n",
    "\n",
    "select TABLE_SCHEMA, TABLE_NAME, TABLE_PARTITION, SOURCE_TYPE\n",
    "from QSYS2.SYSPARTITIONSTAT\n",
    "where TABLE_SCHEMA='BOLIB'\n",
    "  and TABLE_NAME='QRPGLESRC'\n",
    "order by TABLE_PARTITION\n",
    "limit 25"
   ]
  },
  {
   "cell_type": "code",
   "execution_count": 5,
   "metadata": {},
   "outputs": [
    {
     "data": {
      "text/html": [
       "<div>\n",
       "<style scoped>\n",
       "    .dataframe tbody tr th:only-of-type {\n",
       "        vertical-align: middle;\n",
       "    }\n",
       "\n",
       "    .dataframe tbody tr th {\n",
       "        vertical-align: top;\n",
       "    }\n",
       "\n",
       "    .dataframe thead th {\n",
       "        text-align: right;\n",
       "    }\n",
       "</style>\n",
       "<table border=\"1\" class=\"dataframe\">\n",
       "  <thead>\n",
       "    <tr style=\"text-align: right;\">\n",
       "      <th></th>\n",
       "      <th>ID</th>\n",
       "      <th>USERNAME</th>\n",
       "      <th>URL</th>\n",
       "      <th>HOURS_WATCHED</th>\n",
       "    </tr>\n",
       "  </thead>\n",
       "  <tbody>\n",
       "    <tr>\n",
       "      <th>0</th>\n",
       "      <td>247578</td>\n",
       "      <td>barrettotte</td>\n",
       "      <td>https://anilist.co/user/247578</td>\n",
       "      <td>1639</td>\n",
       "    </tr>\n",
       "  </tbody>\n",
       "</table>\n",
       "</div>"
      ],
      "text/plain": [
       "           ID              USERNAME                               URL  \\\n",
       "0  247578      barrettotte           https://anilist.co/user/247578     \n",
       "\n",
       "   HOURS_WATCHED  \n",
       "0           1639  "
      ]
     },
     "execution_count": 5,
     "metadata": {},
     "output_type": "execute_result"
    }
   ],
   "source": [
    "%%db2i\n",
    "\n",
    "select \n",
    "    id, \n",
    "    username, \n",
    "    url, \n",
    "    (minutes / 60) as hours_watched\n",
    "from json_table(\n",
    "    Systools.HttpPostClob(\n",
    "        'https://graphql.anilist.co',\n",
    "        cast('<httpHeader><header name=\"Content-Type\" value=\"application/json\"/></httpHeader>' as clob),\n",
    "        cast('{\"query\": \"{User(search:\\\"barrettotte\\\"){id name siteUrl stats{watchedTime}}}\"}' as clob)\n",
    "    ),\n",
    "    '$.data.User'\n",
    "    columns(\n",
    "        id       char(10) path '$.id',\n",
    "        username char(20) path '$.name',\n",
    "        url      char(32) path '$.siteUrl',\n",
    "        minutes  char(10) path '$.stats.watchedTime'\n",
    "    )\n",
    ")"
   ]
  },
  {
   "cell_type": "code",
   "execution_count": null,
   "metadata": {},
   "outputs": [],
   "source": []
  }
 ],
 "metadata": {
  "kernelspec": {
   "display_name": "Python 3",
   "language": "python",
   "name": "python3"
  },
  "language_info": {
   "codemirror_mode": {
    "name": "ipython",
    "version": 3
   },
   "file_extension": ".py",
   "mimetype": "text/x-python",
   "name": "python",
   "nbconvert_exporter": "python",
   "pygments_lexer": "ipython3",
   "version": "3.7.0"
  }
 },
 "nbformat": 4,
 "nbformat_minor": 4
}
