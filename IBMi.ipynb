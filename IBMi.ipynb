{
 "cells": [
  {
   "cell_type": "markdown",
   "metadata": {},
   "source": [
    "# IBMi Jupyter Notebook Extension"
   ]
  },
  {
   "cell_type": "code",
   "execution_count": null,
   "metadata": {
    "scrolled": true
   },
   "outputs": [],
   "source": [
    "import pyodbc, getpass\n",
    "import pandas as pd\n",
    "from IPython.display import display, HTML, Image, Javascript\n",
    "from IPython.core.magic import register_cell_magic, needs_local_scope\n",
    "\n",
    "global _config\n",
    "global _info\n",
    "\n",
    "_config = {\n",
    "    'host': '',\n",
    "    'user': '',\n",
    "    'pwd': ''\n",
    "}\n",
    "\n",
    "_info = {\n",
    "    'sqlcode': 0,\n",
    "    'sqlstate': '0',\n",
    "    'sqlerror': ''\n",
    "}\n",
    "\n",
    "# disable pandas df display limit, trust user to limit result set in query\n",
    "pd.set_option('display.max_rows', None)\n",
    "pd.set_option('display.max_columns', None)\n",
    "pd.set_option('display.width', None)\n",
    "pd.set_option('display.max_colwidth', None)\n",
    "\n",
    "# TODO: port? protocol? driver?\n",
    "_config['host'] = input('Enter host: ').strip()\n",
    "_config['user'] = input('Enter user: ').strip()\n",
    "_config['pwd'] = getpass.getpass('Enter password: ')"
   ]
  },
  {
   "cell_type": "markdown",
   "metadata": {},
   "source": [
    "## Define Utilities"
   ]
  },
  {
   "cell_type": "code",
   "execution_count": null,
   "metadata": {},
   "outputs": [],
   "source": [
    "# Splitting cell content into SQL statements \n",
    "#  delimited by ';' (when not in string)\n",
    "def get_statements(sql):\n",
    "    stmts = []\n",
    "    i = 0\n",
    "    stmt = ''\n",
    "    q = ''\n",
    "    for c in sql:\n",
    "        if c in ('\\'', '\"'):\n",
    "            stmt += c\n",
    "            q = '' if c == q else (c if q == '' else q)\n",
    "        elif c == ';':\n",
    "            stmts.append(stmt)\n",
    "            stmt = ''\n",
    "        else:\n",
    "            stmt += c\n",
    "    if stmt != '':\n",
    "        stmts.append(stmt)\n",
    "    return stmts"
   ]
  },
  {
   "cell_type": "markdown",
   "metadata": {},
   "source": [
    "## Establish Connection"
   ]
  },
  {
   "cell_type": "code",
   "execution_count": null,
   "metadata": {},
   "outputs": [],
   "source": [
    "print(\"Connecting to {} as {} ...\".format(_config['host'], _config['user']))\n",
    "try:\n",
    "    conn = pyodbc.connect(driver='{IBM i Access ODBC Driver}', \n",
    "      system=_config['host'], uid=_config['user'], pwd=_config['pwd'])\n",
    "    print('Successfully connected!')\n",
    "except pyodbc.InterfaceError as e:\n",
    "    print('Could not connect :(\\n{}'.format(e))"
   ]
  },
  {
   "cell_type": "markdown",
   "metadata": {},
   "source": [
    "## Setup Cell Magic"
   ]
  },
  {
   "cell_type": "code",
   "execution_count": null,
   "metadata": {
    "scrolled": true
   },
   "outputs": [],
   "source": [
    "# invoke with %%ibmi\n",
    "@needs_local_scope \n",
    "@register_cell_magic\n",
    "def ibmi(line, cell):\n",
    "    if conn is None:\n",
    "        print('Not connected.')\n",
    "        return None\n",
    "    i = 0\n",
    "    stmts = get_statements(cell.strip())\n",
    "    for stmt in stmts:\n",
    "        sql = ' '.join([x.replace('{','{{').replace('}','}}').replace('\\n','').strip() for x in stmt.split('\\n')])\n",
    "        i += 1\n",
    "        print('Executing statement {} of {} ...'.format(i, len(stmts)))\n",
    "        sql = sql.format(**globals())\n",
    "        if line.strip() != '-':\n",
    "            try:\n",
    "                display(pd.read_sql(sql, conn))\n",
    "            except TypeError:\n",
    "                print('Statement executed successfully')\n",
    "        else:\n",
    "            conn.execute(sql)\n",
    "del ibmi"
   ]
  }
 ],
 "metadata": {
  "kernelspec": {
   "display_name": "Python 3",
   "language": "python",
   "name": "python3"
  },
  "language_info": {
   "codemirror_mode": {
    "name": "ipython",
    "version": 3
   },
   "file_extension": ".py",
   "mimetype": "text/x-python",
   "name": "python",
   "nbconvert_exporter": "python",
   "pygments_lexer": "ipython3",
   "version": "3.7.0"
  }
 },
 "nbformat": 4,
 "nbformat_minor": 4
}
